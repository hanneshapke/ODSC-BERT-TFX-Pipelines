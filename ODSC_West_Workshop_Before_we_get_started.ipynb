{
  "nbformat": 4,
  "nbformat_minor": 0,
  "metadata": {
    "colab": {
      "name": "ODSC West Workshop: Before we get started ",
      "provenance": [],
      "collapsed_sections": []
    },
    "kernelspec": {
      "name": "python3",
      "display_name": "Python 3"
    }
  },
  "cells": [
    {
      "cell_type": "markdown",
      "metadata": {
        "id": "ZCv_LFE2QUD9"
      },
      "source": [
        "# ODSC West Workshop: Before we get started ...\n",
        "\n",
        "This notebook contains a brief introduction to TensorFlow's Ragged Tensors and TensorFlow Text"
      ]
    },
    {
      "source": [
        "<table class=\"tfo-notebook-buttons\" width=\"100%\">\n",
        "  <td>\n",
        "    <a target=\"_blank\" href=\"https://colab.research.google.com/github/hanneshapke/ODSC-BERT-TFX-Pipelines/blob/main/ODSC_West_Workshop_Before_we_get_started.ipynb\"><img src=\"https://www.tensorflow.org/images/colab_logo_32px.png\" />Run in Google Colab</a>\n",
        "  </td>\n",
        "  <td>\n",
        "    <a target=\"_blank\" href=\"https://github.com/hanneshapke/ODSC-BERT-TFX-Pipelines/blob/main/ODSC_West_Workshop_Before_we_get_started.ipynb\"><img src=\"https://www.tensorflow.org/images/GitHub-Mark-32px.png\" />View source on GitHub</a>\n",
        "  </td>\n",
        "</table>\n"
      ],
      "cell_type": "markdown",
      "metadata": {}
    },
    {
      "cell_type": "code",
      "metadata": {
        "id": "3TalCxmVQTZe",
        "outputId": "b6defd0a-5c05-450f-b7af-6af5cb573860",
        "colab": {
          "base_uri": "https://localhost:8080/"
        }
      },
      "source": [
        "!pip install -qU tensorflow-text"
      ],
      "execution_count": 1,
      "outputs": [
        {
          "output_type": "stream",
          "text": [
            "\u001b[?25l\r\u001b[K     |▏                               | 10kB 11.7MB/s eta 0:00:01\r\u001b[K     |▎                               | 20kB 1.6MB/s eta 0:00:02\r\u001b[K     |▍                               | 30kB 1.8MB/s eta 0:00:02\r\u001b[K     |▌                               | 40kB 2.2MB/s eta 0:00:02\r\u001b[K     |▋                               | 51kB 2.0MB/s eta 0:00:02\r\u001b[K     |▊                               | 61kB 2.0MB/s eta 0:00:02\r\u001b[K     |▉                               | 71kB 2.2MB/s eta 0:00:02\r\u001b[K     |█                               | 81kB 2.5MB/s eta 0:00:02\r\u001b[K     |█▏                              | 92kB 2.6MB/s eta 0:00:01\r\u001b[K     |█▎                              | 102kB 2.8MB/s eta 0:00:01\r\u001b[K     |█▍                              | 112kB 2.8MB/s eta 0:00:01\r\u001b[K     |█▌                              | 122kB 2.8MB/s eta 0:00:01\r\u001b[K     |█▋                              | 133kB 2.8MB/s eta 0:00:01\r\u001b[K     |█▊                              | 143kB 2.8MB/s eta 0:00:01\r\u001b[K     |█▉                              | 153kB 2.8MB/s eta 0:00:01\r\u001b[K     |██                              | 163kB 2.8MB/s eta 0:00:01\r\u001b[K     |██▏                             | 174kB 2.8MB/s eta 0:00:01\r\u001b[K     |██▎                             | 184kB 2.8MB/s eta 0:00:01\r\u001b[K     |██▍                             | 194kB 2.8MB/s eta 0:00:01\r\u001b[K     |██▌                             | 204kB 2.8MB/s eta 0:00:01\r\u001b[K     |██▋                             | 215kB 2.8MB/s eta 0:00:01\r\u001b[K     |██▊                             | 225kB 2.8MB/s eta 0:00:01\r\u001b[K     |██▉                             | 235kB 2.8MB/s eta 0:00:01\r\u001b[K     |███                             | 245kB 2.8MB/s eta 0:00:01\r\u001b[K     |███▏                            | 256kB 2.8MB/s eta 0:00:01\r\u001b[K     |███▎                            | 266kB 2.8MB/s eta 0:00:01\r\u001b[K     |███▍                            | 276kB 2.8MB/s eta 0:00:01\r\u001b[K     |███▌                            | 286kB 2.8MB/s eta 0:00:01\r\u001b[K     |███▋                            | 296kB 2.8MB/s eta 0:00:01\r\u001b[K     |███▊                            | 307kB 2.8MB/s eta 0:00:01\r\u001b[K     |███▉                            | 317kB 2.8MB/s eta 0:00:01\r\u001b[K     |████                            | 327kB 2.8MB/s eta 0:00:01\r\u001b[K     |████                            | 337kB 2.8MB/s eta 0:00:01\r\u001b[K     |████▎                           | 348kB 2.8MB/s eta 0:00:01\r\u001b[K     |████▍                           | 358kB 2.8MB/s eta 0:00:01\r\u001b[K     |████▌                           | 368kB 2.8MB/s eta 0:00:01\r\u001b[K     |████▋                           | 378kB 2.8MB/s eta 0:00:01\r\u001b[K     |████▊                           | 389kB 2.8MB/s eta 0:00:01\r\u001b[K     |████▉                           | 399kB 2.8MB/s eta 0:00:01\r\u001b[K     |█████                           | 409kB 2.8MB/s eta 0:00:01\r\u001b[K     |█████                           | 419kB 2.8MB/s eta 0:00:01\r\u001b[K     |█████▎                          | 430kB 2.8MB/s eta 0:00:01\r\u001b[K     |█████▍                          | 440kB 2.8MB/s eta 0:00:01\r\u001b[K     |█████▌                          | 450kB 2.8MB/s eta 0:00:01\r\u001b[K     |█████▋                          | 460kB 2.8MB/s eta 0:00:01\r\u001b[K     |█████▊                          | 471kB 2.8MB/s eta 0:00:01\r\u001b[K     |█████▉                          | 481kB 2.8MB/s eta 0:00:01\r\u001b[K     |██████                          | 491kB 2.8MB/s eta 0:00:01\r\u001b[K     |██████                          | 501kB 2.8MB/s eta 0:00:01\r\u001b[K     |██████▎                         | 512kB 2.8MB/s eta 0:00:01\r\u001b[K     |██████▍                         | 522kB 2.8MB/s eta 0:00:01\r\u001b[K     |██████▌                         | 532kB 2.8MB/s eta 0:00:01\r\u001b[K     |██████▋                         | 542kB 2.8MB/s eta 0:00:01\r\u001b[K     |██████▊                         | 552kB 2.8MB/s eta 0:00:01\r\u001b[K     |██████▉                         | 563kB 2.8MB/s eta 0:00:01\r\u001b[K     |███████                         | 573kB 2.8MB/s eta 0:00:01\r\u001b[K     |███████                         | 583kB 2.8MB/s eta 0:00:01\r\u001b[K     |███████▏                        | 593kB 2.8MB/s eta 0:00:01\r\u001b[K     |███████▍                        | 604kB 2.8MB/s eta 0:00:01\r\u001b[K     |███████▌                        | 614kB 2.8MB/s eta 0:00:01\r\u001b[K     |███████▋                        | 624kB 2.8MB/s eta 0:00:01\r\u001b[K     |███████▊                        | 634kB 2.8MB/s eta 0:00:01\r\u001b[K     |███████▉                        | 645kB 2.8MB/s eta 0:00:01\r\u001b[K     |████████                        | 655kB 2.8MB/s eta 0:00:01\r\u001b[K     |████████                        | 665kB 2.8MB/s eta 0:00:01\r\u001b[K     |████████▏                       | 675kB 2.8MB/s eta 0:00:01\r\u001b[K     |████████▍                       | 686kB 2.8MB/s eta 0:00:01\r\u001b[K     |████████▌                       | 696kB 2.8MB/s eta 0:00:01\r\u001b[K     |████████▋                       | 706kB 2.8MB/s eta 0:00:01\r\u001b[K     |████████▊                       | 716kB 2.8MB/s eta 0:00:01\r\u001b[K     |████████▉                       | 727kB 2.8MB/s eta 0:00:01\r\u001b[K     |█████████                       | 737kB 2.8MB/s eta 0:00:01\r\u001b[K     |█████████                       | 747kB 2.8MB/s eta 0:00:01\r\u001b[K     |█████████▏                      | 757kB 2.8MB/s eta 0:00:01\r\u001b[K     |█████████▍                      | 768kB 2.8MB/s eta 0:00:01\r\u001b[K     |█████████▌                      | 778kB 2.8MB/s eta 0:00:01\r\u001b[K     |█████████▋                      | 788kB 2.8MB/s eta 0:00:01\r\u001b[K     |█████████▊                      | 798kB 2.8MB/s eta 0:00:01\r\u001b[K     |█████████▉                      | 808kB 2.8MB/s eta 0:00:01\r\u001b[K     |██████████                      | 819kB 2.8MB/s eta 0:00:01\r\u001b[K     |██████████                      | 829kB 2.8MB/s eta 0:00:01\r\u001b[K     |██████████▏                     | 839kB 2.8MB/s eta 0:00:01\r\u001b[K     |██████████▎                     | 849kB 2.8MB/s eta 0:00:01\r\u001b[K     |██████████▌                     | 860kB 2.8MB/s eta 0:00:01\r\u001b[K     |██████████▋                     | 870kB 2.8MB/s eta 0:00:01\r\u001b[K     |██████████▊                     | 880kB 2.8MB/s eta 0:00:01\r\u001b[K     |██████████▉                     | 890kB 2.8MB/s eta 0:00:01\r\u001b[K     |███████████                     | 901kB 2.8MB/s eta 0:00:01\r\u001b[K     |███████████                     | 911kB 2.8MB/s eta 0:00:01\r\u001b[K     |███████████▏                    | 921kB 2.8MB/s eta 0:00:01\r\u001b[K     |███████████▎                    | 931kB 2.8MB/s eta 0:00:01\r\u001b[K     |███████████▌                    | 942kB 2.8MB/s eta 0:00:01\r\u001b[K     |███████████▋                    | 952kB 2.8MB/s eta 0:00:01\r\u001b[K     |███████████▊                    | 962kB 2.8MB/s eta 0:00:01\r\u001b[K     |███████████▉                    | 972kB 2.8MB/s eta 0:00:01\r\u001b[K     |████████████                    | 983kB 2.8MB/s eta 0:00:01\r\u001b[K     |████████████                    | 993kB 2.8MB/s eta 0:00:01\r\u001b[K     |████████████▏                   | 1.0MB 2.8MB/s eta 0:00:01\r\u001b[K     |████████████▎                   | 1.0MB 2.8MB/s eta 0:00:01\r\u001b[K     |████████████▌                   | 1.0MB 2.8MB/s eta 0:00:01\r\u001b[K     |████████████▋                   | 1.0MB 2.8MB/s eta 0:00:01\r\u001b[K     |████████████▊                   | 1.0MB 2.8MB/s eta 0:00:01\r\u001b[K     |████████████▉                   | 1.1MB 2.8MB/s eta 0:00:01\r\u001b[K     |█████████████                   | 1.1MB 2.8MB/s eta 0:00:01\r\u001b[K     |█████████████                   | 1.1MB 2.8MB/s eta 0:00:01\r\u001b[K     |█████████████▏                  | 1.1MB 2.8MB/s eta 0:00:01\r\u001b[K     |█████████████▎                  | 1.1MB 2.8MB/s eta 0:00:01\r\u001b[K     |█████████████▍                  | 1.1MB 2.8MB/s eta 0:00:01\r\u001b[K     |█████████████▋                  | 1.1MB 2.8MB/s eta 0:00:01\r\u001b[K     |█████████████▊                  | 1.1MB 2.8MB/s eta 0:00:01\r\u001b[K     |█████████████▉                  | 1.1MB 2.8MB/s eta 0:00:01\r\u001b[K     |██████████████                  | 1.1MB 2.8MB/s eta 0:00:01\r\u001b[K     |██████████████                  | 1.2MB 2.8MB/s eta 0:00:01\r\u001b[K     |██████████████▏                 | 1.2MB 2.8MB/s eta 0:00:01\r\u001b[K     |██████████████▎                 | 1.2MB 2.8MB/s eta 0:00:01\r\u001b[K     |██████████████▍                 | 1.2MB 2.8MB/s eta 0:00:01\r\u001b[K     |██████████████▋                 | 1.2MB 2.8MB/s eta 0:00:01\r\u001b[K     |██████████████▊                 | 1.2MB 2.8MB/s eta 0:00:01\r\u001b[K     |██████████████▉                 | 1.2MB 2.8MB/s eta 0:00:01\r\u001b[K     |███████████████                 | 1.2MB 2.8MB/s eta 0:00:01\r\u001b[K     |███████████████                 | 1.2MB 2.8MB/s eta 0:00:01\r\u001b[K     |███████████████▏                | 1.2MB 2.8MB/s eta 0:00:01\r\u001b[K     |███████████████▎                | 1.3MB 2.8MB/s eta 0:00:01\r\u001b[K     |███████████████▍                | 1.3MB 2.8MB/s eta 0:00:01\r\u001b[K     |███████████████▋                | 1.3MB 2.8MB/s eta 0:00:01\r\u001b[K     |███████████████▊                | 1.3MB 2.8MB/s eta 0:00:01\r\u001b[K     |███████████████▉                | 1.3MB 2.8MB/s eta 0:00:01\r\u001b[K     |████████████████                | 1.3MB 2.8MB/s eta 0:00:01\r\u001b[K     |████████████████                | 1.3MB 2.8MB/s eta 0:00:01\r\u001b[K     |████████████████▏               | 1.3MB 2.8MB/s eta 0:00:01\r\u001b[K     |████████████████▎               | 1.3MB 2.8MB/s eta 0:00:01\r\u001b[K     |████████████████▍               | 1.4MB 2.8MB/s eta 0:00:01\r\u001b[K     |████████████████▌               | 1.4MB 2.8MB/s eta 0:00:01\r\u001b[K     |████████████████▊               | 1.4MB 2.8MB/s eta 0:00:01\r\u001b[K     |████████████████▉               | 1.4MB 2.8MB/s eta 0:00:01\r\u001b[K     |█████████████████               | 1.4MB 2.8MB/s eta 0:00:01\r\u001b[K     |█████████████████               | 1.4MB 2.8MB/s eta 0:00:01\r\u001b[K     |█████████████████▏              | 1.4MB 2.8MB/s eta 0:00:01\r\u001b[K     |█████████████████▎              | 1.4MB 2.8MB/s eta 0:00:01\r\u001b[K     |█████████████████▍              | 1.4MB 2.8MB/s eta 0:00:01\r\u001b[K     |█████████████████▌              | 1.4MB 2.8MB/s eta 0:00:01\r\u001b[K     |█████████████████▊              | 1.5MB 2.8MB/s eta 0:00:01\r\u001b[K     |█████████████████▉              | 1.5MB 2.8MB/s eta 0:00:01\r\u001b[K     |██████████████████              | 1.5MB 2.8MB/s eta 0:00:01\r\u001b[K     |██████████████████              | 1.5MB 2.8MB/s eta 0:00:01\r\u001b[K     |██████████████████▏             | 1.5MB 2.8MB/s eta 0:00:01\r\u001b[K     |██████████████████▎             | 1.5MB 2.8MB/s eta 0:00:01\r\u001b[K     |██████████████████▍             | 1.5MB 2.8MB/s eta 0:00:01\r\u001b[K     |██████████████████▌             | 1.5MB 2.8MB/s eta 0:00:01\r\u001b[K     |██████████████████▊             | 1.5MB 2.8MB/s eta 0:00:01\r\u001b[K     |██████████████████▉             | 1.5MB 2.8MB/s eta 0:00:01\r\u001b[K     |███████████████████             | 1.6MB 2.8MB/s eta 0:00:01\r\u001b[K     |███████████████████             | 1.6MB 2.8MB/s eta 0:00:01\r\u001b[K     |███████████████████▏            | 1.6MB 2.8MB/s eta 0:00:01\r\u001b[K     |███████████████████▎            | 1.6MB 2.8MB/s eta 0:00:01\r\u001b[K     |███████████████████▍            | 1.6MB 2.8MB/s eta 0:00:01\r\u001b[K     |███████████████████▌            | 1.6MB 2.8MB/s eta 0:00:01\r\u001b[K     |███████████████████▋            | 1.6MB 2.8MB/s eta 0:00:01\r\u001b[K     |███████████████████▉            | 1.6MB 2.8MB/s eta 0:00:01\r\u001b[K     |████████████████████            | 1.6MB 2.8MB/s eta 0:00:01\r\u001b[K     |████████████████████            | 1.6MB 2.8MB/s eta 0:00:01\r\u001b[K     |████████████████████▏           | 1.7MB 2.8MB/s eta 0:00:01\r\u001b[K     |████████████████████▎           | 1.7MB 2.8MB/s eta 0:00:01\r\u001b[K     |████████████████████▍           | 1.7MB 2.8MB/s eta 0:00:01\r\u001b[K     |████████████████████▌           | 1.7MB 2.8MB/s eta 0:00:01\r\u001b[K     |████████████████████▋           | 1.7MB 2.8MB/s eta 0:00:01\r\u001b[K     |████████████████████▉           | 1.7MB 2.8MB/s eta 0:00:01\r\u001b[K     |█████████████████████           | 1.7MB 2.8MB/s eta 0:00:01\r\u001b[K     |█████████████████████           | 1.7MB 2.8MB/s eta 0:00:01\r\u001b[K     |█████████████████████▏          | 1.7MB 2.8MB/s eta 0:00:01\r\u001b[K     |█████████████████████▎          | 1.8MB 2.8MB/s eta 0:00:01\r\u001b[K     |█████████████████████▍          | 1.8MB 2.8MB/s eta 0:00:01\r\u001b[K     |█████████████████████▌          | 1.8MB 2.8MB/s eta 0:00:01\r\u001b[K     |█████████████████████▋          | 1.8MB 2.8MB/s eta 0:00:01\r\u001b[K     |█████████████████████▉          | 1.8MB 2.8MB/s eta 0:00:01\r\u001b[K     |██████████████████████          | 1.8MB 2.8MB/s eta 0:00:01\r\u001b[K     |██████████████████████          | 1.8MB 2.8MB/s eta 0:00:01\r\u001b[K     |██████████████████████▏         | 1.8MB 2.8MB/s eta 0:00:01\r\u001b[K     |██████████████████████▎         | 1.8MB 2.8MB/s eta 0:00:01\r\u001b[K     |██████████████████████▍         | 1.8MB 2.8MB/s eta 0:00:01\r\u001b[K     |██████████████████████▌         | 1.9MB 2.8MB/s eta 0:00:01\r\u001b[K     |██████████████████████▋         | 1.9MB 2.8MB/s eta 0:00:01\r\u001b[K     |██████████████████████▊         | 1.9MB 2.8MB/s eta 0:00:01\r\u001b[K     |███████████████████████         | 1.9MB 2.8MB/s eta 0:00:01\r\u001b[K     |███████████████████████         | 1.9MB 2.8MB/s eta 0:00:01\r\u001b[K     |███████████████████████▏        | 1.9MB 2.8MB/s eta 0:00:01\r\u001b[K     |███████████████████████▎        | 1.9MB 2.8MB/s eta 0:00:01\r\u001b[K     |███████████████████████▍        | 1.9MB 2.8MB/s eta 0:00:01\r\u001b[K     |███████████████████████▌        | 1.9MB 2.8MB/s eta 0:00:01\r\u001b[K     |███████████████████████▋        | 1.9MB 2.8MB/s eta 0:00:01\r\u001b[K     |███████████████████████▊        | 2.0MB 2.8MB/s eta 0:00:01\r\u001b[K     |████████████████████████        | 2.0MB 2.8MB/s eta 0:00:01\r\u001b[K     |████████████████████████        | 2.0MB 2.8MB/s eta 0:00:01\r\u001b[K     |████████████████████████▏       | 2.0MB 2.8MB/s eta 0:00:01\r\u001b[K     |████████████████████████▎       | 2.0MB 2.8MB/s eta 0:00:01\r\u001b[K     |████████████████████████▍       | 2.0MB 2.8MB/s eta 0:00:01\r\u001b[K     |████████████████████████▌       | 2.0MB 2.8MB/s eta 0:00:01\r\u001b[K     |████████████████████████▋       | 2.0MB 2.8MB/s eta 0:00:01\r\u001b[K     |████████████████████████▊       | 2.0MB 2.8MB/s eta 0:00:01\r\u001b[K     |█████████████████████████       | 2.0MB 2.8MB/s eta 0:00:01\r\u001b[K     |█████████████████████████       | 2.1MB 2.8MB/s eta 0:00:01\r\u001b[K     |█████████████████████████▏      | 2.1MB 2.8MB/s eta 0:00:01\r\u001b[K     |█████████████████████████▎      | 2.1MB 2.8MB/s eta 0:00:01\r\u001b[K     |█████████████████████████▍      | 2.1MB 2.8MB/s eta 0:00:01\r\u001b[K     |█████████████████████████▌      | 2.1MB 2.8MB/s eta 0:00:01\r\u001b[K     |█████████████████████████▋      | 2.1MB 2.8MB/s eta 0:00:01\r\u001b[K     |█████████████████████████▊      | 2.1MB 2.8MB/s eta 0:00:01\r\u001b[K     |██████████████████████████      | 2.1MB 2.8MB/s eta 0:00:01\r\u001b[K     |██████████████████████████      | 2.1MB 2.8MB/s eta 0:00:01\r\u001b[K     |██████████████████████████▏     | 2.2MB 2.8MB/s eta 0:00:01\r\u001b[K     |██████████████████████████▎     | 2.2MB 2.8MB/s eta 0:00:01\r\u001b[K     |██████████████████████████▍     | 2.2MB 2.8MB/s eta 0:00:01\r\u001b[K     |██████████████████████████▌     | 2.2MB 2.8MB/s eta 0:00:01\r\u001b[K     |██████████████████████████▋     | 2.2MB 2.8MB/s eta 0:00:01\r\u001b[K     |██████████████████████████▊     | 2.2MB 2.8MB/s eta 0:00:01\r\u001b[K     |██████████████████████████▉     | 2.2MB 2.8MB/s eta 0:00:01\r\u001b[K     |███████████████████████████     | 2.2MB 2.8MB/s eta 0:00:01\r\u001b[K     |███████████████████████████▏    | 2.2MB 2.8MB/s eta 0:00:01\r\u001b[K     |███████████████████████████▎    | 2.2MB 2.8MB/s eta 0:00:01\r\u001b[K     |███████████████████████████▍    | 2.3MB 2.8MB/s eta 0:00:01\r\u001b[K     |███████████████████████████▌    | 2.3MB 2.8MB/s eta 0:00:01\r\u001b[K     |███████████████████████████▋    | 2.3MB 2.8MB/s eta 0:00:01\r\u001b[K     |███████████████████████████▊    | 2.3MB 2.8MB/s eta 0:00:01\r\u001b[K     |███████████████████████████▉    | 2.3MB 2.8MB/s eta 0:00:01\r\u001b[K     |████████████████████████████    | 2.3MB 2.8MB/s eta 0:00:01\r\u001b[K     |████████████████████████████▏   | 2.3MB 2.8MB/s eta 0:00:01\r\u001b[K     |████████████████████████████▎   | 2.3MB 2.8MB/s eta 0:00:01\r\u001b[K     |████████████████████████████▍   | 2.3MB 2.8MB/s eta 0:00:01\r\u001b[K     |████████████████████████████▌   | 2.3MB 2.8MB/s eta 0:00:01\r\u001b[K     |████████████████████████████▋   | 2.4MB 2.8MB/s eta 0:00:01\r\u001b[K     |████████████████████████████▊   | 2.4MB 2.8MB/s eta 0:00:01\r\u001b[K     |████████████████████████████▉   | 2.4MB 2.8MB/s eta 0:00:01\r\u001b[K     |█████████████████████████████   | 2.4MB 2.8MB/s eta 0:00:01\r\u001b[K     |█████████████████████████████▏  | 2.4MB 2.8MB/s eta 0:00:01\r\u001b[K     |█████████████████████████████▎  | 2.4MB 2.8MB/s eta 0:00:01\r\u001b[K     |█████████████████████████████▍  | 2.4MB 2.8MB/s eta 0:00:01\r\u001b[K     |█████████████████████████████▌  | 2.4MB 2.8MB/s eta 0:00:01\r\u001b[K     |█████████████████████████████▋  | 2.4MB 2.8MB/s eta 0:00:01\r\u001b[K     |█████████████████████████████▊  | 2.4MB 2.8MB/s eta 0:00:01\r\u001b[K     |█████████████████████████████▉  | 2.5MB 2.8MB/s eta 0:00:01\r\u001b[K     |██████████████████████████████  | 2.5MB 2.8MB/s eta 0:00:01\r\u001b[K     |██████████████████████████████▏ | 2.5MB 2.8MB/s eta 0:00:01\r\u001b[K     |██████████████████████████████▎ | 2.5MB 2.8MB/s eta 0:00:01\r\u001b[K     |██████████████████████████████▍ | 2.5MB 2.8MB/s eta 0:00:01\r\u001b[K     |██████████████████████████████▌ | 2.5MB 2.8MB/s eta 0:00:01\r\u001b[K     |██████████████████████████████▋ | 2.5MB 2.8MB/s eta 0:00:01\r\u001b[K     |██████████████████████████████▊ | 2.5MB 2.8MB/s eta 0:00:01\r\u001b[K     |██████████████████████████████▉ | 2.5MB 2.8MB/s eta 0:00:01\r\u001b[K     |███████████████████████████████ | 2.5MB 2.8MB/s eta 0:00:01\r\u001b[K     |███████████████████████████████▏| 2.6MB 2.8MB/s eta 0:00:01\r\u001b[K     |███████████████████████████████▎| 2.6MB 2.8MB/s eta 0:00:01\r\u001b[K     |███████████████████████████████▍| 2.6MB 2.8MB/s eta 0:00:01\r\u001b[K     |███████████████████████████████▌| 2.6MB 2.8MB/s eta 0:00:01\r\u001b[K     |███████████████████████████████▋| 2.6MB 2.8MB/s eta 0:00:01\r\u001b[K     |███████████████████████████████▊| 2.6MB 2.8MB/s eta 0:00:01\r\u001b[K     |███████████████████████████████▉| 2.6MB 2.8MB/s eta 0:00:01\r\u001b[K     |████████████████████████████████| 2.6MB 2.8MB/s eta 0:00:01\r\u001b[K     |████████████████████████████████| 2.6MB 2.8MB/s \n",
            "\u001b[?25h"
          ],
          "name": "stdout"
        }
      ]
    },
    {
      "cell_type": "code",
      "metadata": {
        "id": "ItHRaYXPQiER"
      },
      "source": [
        "import tensorflow as tf\n",
        "import tensorflow_text as text"
      ],
      "execution_count": 7,
      "outputs": []
    },
    {
      "cell_type": "markdown",
      "metadata": {
        "id": "beH8UopTQ7-t"
      },
      "source": [
        "### Example of a Ragged Tensor"
      ]
    },
    {
      "cell_type": "code",
      "metadata": {
        "id": "EHZQhLSVQsd_",
        "outputId": "e230602c-6492-48ed-a563-7a4b5da6913f",
        "colab": {
          "base_uri": "https://localhost:8080/"
        }
      },
      "source": [
        "tokens = tf.ragged.constant([[\"Hi\", \"ODSC\", \"audience\"], [\"thanks\", \"for\", \"attending\", \"this\", \"workshop\"]])\n",
        "print(tokens)\n",
        "print(tf.strings.substr(tokens, 0, 2))"
      ],
      "execution_count": 5,
      "outputs": [
        {
          "output_type": "stream",
          "text": [
            "<tf.RaggedTensor [[b'Hi', b'ODSC', b'audience'], [b'thanks', b'for', b'attending', b'this', b'workshop']]>\n",
            "<tf.RaggedTensor [[b'Hi', b'OD', b'au'], [b'th', b'fo', b'at', b'th', b'wo']]>\n"
          ],
          "name": "stdout"
        }
      ]
    },
    {
      "cell_type": "code",
      "metadata": {
        "id": "Q7MNpAsXQ6eK",
        "outputId": "7b28b2e5-770e-4187-d862-f3c774e015e5",
        "colab": {
          "base_uri": "https://localhost:8080/"
        }
      },
      "source": [
        "tokens.to_tensor()"
      ],
      "execution_count": 6,
      "outputs": [
        {
          "output_type": "execute_result",
          "data": {
            "text/plain": [
              "<tf.Tensor: shape=(2, 5), dtype=string, numpy=\n",
              "array([[b'Hi', b'ODSC', b'audience', b'', b''],\n",
              "       [b'thanks', b'for', b'attending', b'this', b'workshop']],\n",
              "      dtype=object)>"
            ]
          },
          "metadata": {
            "tags": []
          },
          "execution_count": 6
        }
      ]
    },
    {
      "cell_type": "markdown",
      "metadata": {
        "id": "ruwYBy6uUSgr"
      },
      "source": [
        "## Examples around TensorFlow Text"
      ]
    },
    {
      "cell_type": "markdown",
      "metadata": {
        "id": "75EwBYWZU7XA"
      },
      "source": [
        "### Tokenization"
      ]
    },
    {
      "cell_type": "code",
      "metadata": {
        "id": "lp5IIJeKURF4",
        "outputId": "822cebee-f119-4e3e-e61d-bf3260de44cd",
        "colab": {
          "base_uri": "https://localhost:8080/"
        }
      },
      "source": [
        "tokenizer = text.WhitespaceTokenizer()\n",
        "tokens = tokenizer.tokenize(['This is a little example', u'☜ is quite useful'.encode('UTF-8')])\n",
        "print(tokens.to_list())"
      ],
      "execution_count": 8,
      "outputs": [
        {
          "output_type": "stream",
          "text": [
            "WARNING:tensorflow:From /usr/local/lib/python3.6/dist-packages/tensorflow/python/util/dispatch.py:201: batch_gather (from tensorflow.python.ops.array_ops) is deprecated and will be removed after 2017-10-25.\n",
            "Instructions for updating:\n",
            "`tf.batch_gather` is deprecated, please use `tf.gather` with `batch_dims=-1` instead.\n",
            "[[b'This', b'is', b'a', b'little', b'example'], [b'\\xe2\\x98\\x9c', b'is', b'quite', b'useful']]\n"
          ],
          "name": "stdout"
        }
      ]
    },
    {
      "cell_type": "markdown",
      "metadata": {
        "id": "933W5NliU_o3"
      },
      "source": [
        "### n-grams"
      ]
    },
    {
      "cell_type": "code",
      "metadata": {
        "id": "hUoXTh4UUPGP",
        "outputId": "a2b7172f-c904-49d9-9817-01dee4911381",
        "colab": {
          "base_uri": "https://localhost:8080/"
        }
      },
      "source": [
        "for i in [1, 2, 3]:\n",
        "    n_gram = text.ngrams(tokens, i, reduction_type=text.Reduction.STRING_JOIN)\n",
        "    print(\"{}-gram: {}\".format(i, n_gram.to_list()))"
      ],
      "execution_count": 11,
      "outputs": [
        {
          "output_type": "stream",
          "text": [
            "1-gram: [[b'This', b'is', b'a', b'little', b'example'], [b'\\xe2\\x98\\x9c', b'is', b'quite', b'useful']]\n",
            "2-gram: [[b'This is', b'is a', b'a little', b'little example'], [b'\\xe2\\x98\\x9c is', b'is quite', b'quite useful']]\n",
            "3-gram: [[b'This is a', b'is a little', b'a little example'], [b'\\xe2\\x98\\x9c is quite', b'is quite useful']]\n"
          ],
          "name": "stdout"
        }
      ]
    },
    {
      "cell_type": "code",
      "metadata": {
        "id": "m3UzmrkZY9kh"
      },
      "source": [
        ""
      ],
      "execution_count": null,
      "outputs": []
    }
  ]
}
